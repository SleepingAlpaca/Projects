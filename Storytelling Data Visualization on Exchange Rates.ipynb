{
 "cells": [
  {
   "cell_type": "raw",
   "id": "92bf3bc4",
   "metadata": {},
   "source": [
    "This will be a project trying to visualize the change in relationship between euro and US dollor as time pass. The base unit is one Euro."
   ]
  },
  {
   "cell_type": "code",
   "execution_count": 1,
   "id": "e0a20346",
   "metadata": {},
   "outputs": [],
   "source": [
    "import pandas as pd\n",
    "import matplotlib.pyplot as plt"
   ]
  },
  {
   "cell_type": "code",
   "execution_count": 2,
   "id": "e39815d9",
   "metadata": {},
   "outputs": [],
   "source": [
    "exchange_rates = pd.read_csv(\"euro-daily-hist_1999_2022.csv\")"
   ]
  },
  {
   "cell_type": "code",
   "execution_count": 3,
   "id": "7f58b53a",
   "metadata": {},
   "outputs": [
    {
     "data": {
      "text/html": [
       "<div>\n",
       "<style scoped>\n",
       "    .dataframe tbody tr th:only-of-type {\n",
       "        vertical-align: middle;\n",
       "    }\n",
       "\n",
       "    .dataframe tbody tr th {\n",
       "        vertical-align: top;\n",
       "    }\n",
       "\n",
       "    .dataframe thead th {\n",
       "        text-align: right;\n",
       "    }\n",
       "</style>\n",
       "<table border=\"1\" class=\"dataframe\">\n",
       "  <thead>\n",
       "    <tr style=\"text-align: right;\">\n",
       "      <th></th>\n",
       "      <th>Period\\Unit:</th>\n",
       "      <th>[Australian dollar ]</th>\n",
       "      <th>[Bulgarian lev ]</th>\n",
       "      <th>[Brazilian real ]</th>\n",
       "      <th>[Canadian dollar ]</th>\n",
       "      <th>[Swiss franc ]</th>\n",
       "      <th>[Chinese yuan renminbi ]</th>\n",
       "      <th>[Cypriot pound ]</th>\n",
       "      <th>[Czech koruna ]</th>\n",
       "      <th>[Danish krone ]</th>\n",
       "      <th>...</th>\n",
       "      <th>[Romanian leu ]</th>\n",
       "      <th>[Russian rouble ]</th>\n",
       "      <th>[Swedish krona ]</th>\n",
       "      <th>[Singapore dollar ]</th>\n",
       "      <th>[Slovenian tolar ]</th>\n",
       "      <th>[Slovak koruna ]</th>\n",
       "      <th>[Thai baht ]</th>\n",
       "      <th>[Turkish lira ]</th>\n",
       "      <th>[US dollar ]</th>\n",
       "      <th>[South African rand ]</th>\n",
       "    </tr>\n",
       "  </thead>\n",
       "  <tbody>\n",
       "    <tr>\n",
       "      <th>0</th>\n",
       "      <td>2023-05-26</td>\n",
       "      <td>1.6439</td>\n",
       "      <td>1.9558</td>\n",
       "      <td>5.3878</td>\n",
       "      <td>1.4630</td>\n",
       "      <td>0.9707</td>\n",
       "      <td>7.5874</td>\n",
       "      <td>NaN</td>\n",
       "      <td>23.648</td>\n",
       "      <td>7.4489</td>\n",
       "      <td>...</td>\n",
       "      <td>4.9572</td>\n",
       "      <td>NaN</td>\n",
       "      <td>11.5280</td>\n",
       "      <td>1.4520</td>\n",
       "      <td>NaN</td>\n",
       "      <td>NaN</td>\n",
       "      <td>37.2630</td>\n",
       "      <td>21.5340</td>\n",
       "      <td>1.0751</td>\n",
       "      <td>21.0148</td>\n",
       "    </tr>\n",
       "    <tr>\n",
       "      <th>1</th>\n",
       "      <td>2023-05-25</td>\n",
       "      <td>1.6443</td>\n",
       "      <td>1.9558</td>\n",
       "      <td>5.3320</td>\n",
       "      <td>1.4599</td>\n",
       "      <td>0.9708</td>\n",
       "      <td>7.5891</td>\n",
       "      <td>NaN</td>\n",
       "      <td>23.645</td>\n",
       "      <td>7.4502</td>\n",
       "      <td>...</td>\n",
       "      <td>4.9495</td>\n",
       "      <td>NaN</td>\n",
       "      <td>11.5490</td>\n",
       "      <td>1.4515</td>\n",
       "      <td>NaN</td>\n",
       "      <td>NaN</td>\n",
       "      <td>37.1540</td>\n",
       "      <td>21.3944</td>\n",
       "      <td>1.0735</td>\n",
       "      <td>20.7466</td>\n",
       "    </tr>\n",
       "    <tr>\n",
       "      <th>2</th>\n",
       "      <td>2023-05-24</td>\n",
       "      <td>1.6402</td>\n",
       "      <td>1.9558</td>\n",
       "      <td>5.3397</td>\n",
       "      <td>1.4600</td>\n",
       "      <td>0.9732</td>\n",
       "      <td>7.6005</td>\n",
       "      <td>NaN</td>\n",
       "      <td>23.671</td>\n",
       "      <td>7.4477</td>\n",
       "      <td>...</td>\n",
       "      <td>4.9614</td>\n",
       "      <td>NaN</td>\n",
       "      <td>11.5103</td>\n",
       "      <td>1.4526</td>\n",
       "      <td>NaN</td>\n",
       "      <td>NaN</td>\n",
       "      <td>37.1710</td>\n",
       "      <td>21.4487</td>\n",
       "      <td>1.0785</td>\n",
       "      <td>20.7479</td>\n",
       "    </tr>\n",
       "    <tr>\n",
       "      <th>3</th>\n",
       "      <td>2023-05-23</td>\n",
       "      <td>1.6282</td>\n",
       "      <td>1.9558</td>\n",
       "      <td>5.3649</td>\n",
       "      <td>1.4571</td>\n",
       "      <td>0.9718</td>\n",
       "      <td>7.6039</td>\n",
       "      <td>NaN</td>\n",
       "      <td>23.681</td>\n",
       "      <td>7.4475</td>\n",
       "      <td>...</td>\n",
       "      <td>4.9720</td>\n",
       "      <td>NaN</td>\n",
       "      <td>11.4494</td>\n",
       "      <td>1.4527</td>\n",
       "      <td>NaN</td>\n",
       "      <td>NaN</td>\n",
       "      <td>37.4350</td>\n",
       "      <td>21.3993</td>\n",
       "      <td>1.0779</td>\n",
       "      <td>20.7920</td>\n",
       "    </tr>\n",
       "    <tr>\n",
       "      <th>4</th>\n",
       "      <td>2023-05-22</td>\n",
       "      <td>1.6294</td>\n",
       "      <td>1.9558</td>\n",
       "      <td>5.4056</td>\n",
       "      <td>1.4618</td>\n",
       "      <td>0.9700</td>\n",
       "      <td>7.6067</td>\n",
       "      <td>NaN</td>\n",
       "      <td>23.676</td>\n",
       "      <td>7.4478</td>\n",
       "      <td>...</td>\n",
       "      <td>4.9737</td>\n",
       "      <td>NaN</td>\n",
       "      <td>11.3765</td>\n",
       "      <td>1.4554</td>\n",
       "      <td>NaN</td>\n",
       "      <td>NaN</td>\n",
       "      <td>37.2820</td>\n",
       "      <td>21.4629</td>\n",
       "      <td>1.0822</td>\n",
       "      <td>20.9137</td>\n",
       "    </tr>\n",
       "  </tbody>\n",
       "</table>\n",
       "<p>5 rows × 41 columns</p>\n",
       "</div>"
      ],
      "text/plain": [
       "  Period\\Unit: [Australian dollar ] [Bulgarian lev ] [Brazilian real ]  \\\n",
       "0   2023-05-26               1.6439           1.9558            5.3878   \n",
       "1   2023-05-25               1.6443           1.9558            5.3320   \n",
       "2   2023-05-24               1.6402           1.9558            5.3397   \n",
       "3   2023-05-23               1.6282           1.9558            5.3649   \n",
       "4   2023-05-22               1.6294           1.9558            5.4056   \n",
       "\n",
       "  [Canadian dollar ] [Swiss franc ] [Chinese yuan renminbi ] [Cypriot pound ]  \\\n",
       "0             1.4630         0.9707                   7.5874              NaN   \n",
       "1             1.4599         0.9708                   7.5891              NaN   \n",
       "2             1.4600         0.9732                   7.6005              NaN   \n",
       "3             1.4571         0.9718                   7.6039              NaN   \n",
       "4             1.4618         0.9700                   7.6067              NaN   \n",
       "\n",
       "  [Czech koruna ] [Danish krone ]  ... [Romanian leu ] [Russian rouble ]  \\\n",
       "0          23.648          7.4489  ...          4.9572               NaN   \n",
       "1          23.645          7.4502  ...          4.9495               NaN   \n",
       "2          23.671          7.4477  ...          4.9614               NaN   \n",
       "3          23.681          7.4475  ...          4.9720               NaN   \n",
       "4          23.676          7.4478  ...          4.9737               NaN   \n",
       "\n",
       "  [Swedish krona ] [Singapore dollar ] [Slovenian tolar ] [Slovak koruna ]  \\\n",
       "0          11.5280              1.4520                NaN              NaN   \n",
       "1          11.5490              1.4515                NaN              NaN   \n",
       "2          11.5103              1.4526                NaN              NaN   \n",
       "3          11.4494              1.4527                NaN              NaN   \n",
       "4          11.3765              1.4554                NaN              NaN   \n",
       "\n",
       "  [Thai baht ] [Turkish lira ] [US dollar ]  [South African rand ]  \n",
       "0      37.2630         21.5340       1.0751                21.0148  \n",
       "1      37.1540         21.3944       1.0735                20.7466  \n",
       "2      37.1710         21.4487       1.0785                20.7479  \n",
       "3      37.4350         21.3993       1.0779                20.7920  \n",
       "4      37.2820         21.4629       1.0822                20.9137  \n",
       "\n",
       "[5 rows x 41 columns]"
      ]
     },
     "execution_count": 3,
     "metadata": {},
     "output_type": "execute_result"
    }
   ],
   "source": [
    "exchange_rates.head()"
   ]
  },
  {
   "cell_type": "code",
   "execution_count": 4,
   "id": "f28db9a9",
   "metadata": {},
   "outputs": [
    {
     "data": {
      "text/html": [
       "<div>\n",
       "<style scoped>\n",
       "    .dataframe tbody tr th:only-of-type {\n",
       "        vertical-align: middle;\n",
       "    }\n",
       "\n",
       "    .dataframe tbody tr th {\n",
       "        vertical-align: top;\n",
       "    }\n",
       "\n",
       "    .dataframe thead th {\n",
       "        text-align: right;\n",
       "    }\n",
       "</style>\n",
       "<table border=\"1\" class=\"dataframe\">\n",
       "  <thead>\n",
       "    <tr style=\"text-align: right;\">\n",
       "      <th></th>\n",
       "      <th>Period\\Unit:</th>\n",
       "      <th>[Australian dollar ]</th>\n",
       "      <th>[Bulgarian lev ]</th>\n",
       "      <th>[Brazilian real ]</th>\n",
       "      <th>[Canadian dollar ]</th>\n",
       "      <th>[Swiss franc ]</th>\n",
       "      <th>[Chinese yuan renminbi ]</th>\n",
       "      <th>[Cypriot pound ]</th>\n",
       "      <th>[Czech koruna ]</th>\n",
       "      <th>[Danish krone ]</th>\n",
       "      <th>...</th>\n",
       "      <th>[Romanian leu ]</th>\n",
       "      <th>[Russian rouble ]</th>\n",
       "      <th>[Swedish krona ]</th>\n",
       "      <th>[Singapore dollar ]</th>\n",
       "      <th>[Slovenian tolar ]</th>\n",
       "      <th>[Slovak koruna ]</th>\n",
       "      <th>[Thai baht ]</th>\n",
       "      <th>[Turkish lira ]</th>\n",
       "      <th>[US dollar ]</th>\n",
       "      <th>[South African rand ]</th>\n",
       "    </tr>\n",
       "  </thead>\n",
       "  <tbody>\n",
       "    <tr>\n",
       "      <th>6306</th>\n",
       "      <td>1999-01-08</td>\n",
       "      <td>1.8406</td>\n",
       "      <td>NaN</td>\n",
       "      <td>NaN</td>\n",
       "      <td>1.7643</td>\n",
       "      <td>1.6138</td>\n",
       "      <td>NaN</td>\n",
       "      <td>0.58187</td>\n",
       "      <td>34.938</td>\n",
       "      <td>7.4433</td>\n",
       "      <td>...</td>\n",
       "      <td>1.3143</td>\n",
       "      <td>27.2075</td>\n",
       "      <td>9.1650</td>\n",
       "      <td>1.9537</td>\n",
       "      <td>188.8400</td>\n",
       "      <td>42.560</td>\n",
       "      <td>42.5590</td>\n",
       "      <td>0.3718</td>\n",
       "      <td>1.1659</td>\n",
       "      <td>6.7855</td>\n",
       "    </tr>\n",
       "    <tr>\n",
       "      <th>6307</th>\n",
       "      <td>1999-01-07</td>\n",
       "      <td>1.8474</td>\n",
       "      <td>NaN</td>\n",
       "      <td>NaN</td>\n",
       "      <td>1.7602</td>\n",
       "      <td>1.6165</td>\n",
       "      <td>NaN</td>\n",
       "      <td>0.58187</td>\n",
       "      <td>34.886</td>\n",
       "      <td>7.4431</td>\n",
       "      <td>...</td>\n",
       "      <td>1.3092</td>\n",
       "      <td>26.9876</td>\n",
       "      <td>9.1800</td>\n",
       "      <td>1.9436</td>\n",
       "      <td>188.8000</td>\n",
       "      <td>42.765</td>\n",
       "      <td>42.1678</td>\n",
       "      <td>0.3701</td>\n",
       "      <td>1.1632</td>\n",
       "      <td>6.8283</td>\n",
       "    </tr>\n",
       "    <tr>\n",
       "      <th>6308</th>\n",
       "      <td>1999-01-06</td>\n",
       "      <td>1.8820</td>\n",
       "      <td>NaN</td>\n",
       "      <td>NaN</td>\n",
       "      <td>1.7711</td>\n",
       "      <td>1.6116</td>\n",
       "      <td>NaN</td>\n",
       "      <td>0.58200</td>\n",
       "      <td>34.850</td>\n",
       "      <td>7.4452</td>\n",
       "      <td>...</td>\n",
       "      <td>1.3168</td>\n",
       "      <td>27.4315</td>\n",
       "      <td>9.3050</td>\n",
       "      <td>1.9699</td>\n",
       "      <td>188.7000</td>\n",
       "      <td>42.778</td>\n",
       "      <td>42.6949</td>\n",
       "      <td>0.3722</td>\n",
       "      <td>1.1743</td>\n",
       "      <td>6.7307</td>\n",
       "    </tr>\n",
       "    <tr>\n",
       "      <th>6309</th>\n",
       "      <td>1999-01-05</td>\n",
       "      <td>1.8944</td>\n",
       "      <td>NaN</td>\n",
       "      <td>NaN</td>\n",
       "      <td>1.7965</td>\n",
       "      <td>1.6123</td>\n",
       "      <td>NaN</td>\n",
       "      <td>0.58230</td>\n",
       "      <td>34.917</td>\n",
       "      <td>7.4495</td>\n",
       "      <td>...</td>\n",
       "      <td>1.3168</td>\n",
       "      <td>26.5876</td>\n",
       "      <td>9.4025</td>\n",
       "      <td>1.9655</td>\n",
       "      <td>188.7750</td>\n",
       "      <td>42.848</td>\n",
       "      <td>42.5048</td>\n",
       "      <td>0.3728</td>\n",
       "      <td>1.1790</td>\n",
       "      <td>6.7975</td>\n",
       "    </tr>\n",
       "    <tr>\n",
       "      <th>6310</th>\n",
       "      <td>1999-01-04</td>\n",
       "      <td>1.9100</td>\n",
       "      <td>NaN</td>\n",
       "      <td>NaN</td>\n",
       "      <td>1.8004</td>\n",
       "      <td>1.6168</td>\n",
       "      <td>NaN</td>\n",
       "      <td>0.58231</td>\n",
       "      <td>35.107</td>\n",
       "      <td>7.4501</td>\n",
       "      <td>...</td>\n",
       "      <td>1.3111</td>\n",
       "      <td>25.2875</td>\n",
       "      <td>9.4696</td>\n",
       "      <td>1.9554</td>\n",
       "      <td>189.0450</td>\n",
       "      <td>42.991</td>\n",
       "      <td>42.6799</td>\n",
       "      <td>0.3723</td>\n",
       "      <td>1.1789</td>\n",
       "      <td>6.9358</td>\n",
       "    </tr>\n",
       "  </tbody>\n",
       "</table>\n",
       "<p>5 rows × 41 columns</p>\n",
       "</div>"
      ],
      "text/plain": [
       "     Period\\Unit: [Australian dollar ] [Bulgarian lev ] [Brazilian real ]  \\\n",
       "6306   1999-01-08               1.8406              NaN               NaN   \n",
       "6307   1999-01-07               1.8474              NaN               NaN   \n",
       "6308   1999-01-06               1.8820              NaN               NaN   \n",
       "6309   1999-01-05               1.8944              NaN               NaN   \n",
       "6310   1999-01-04               1.9100              NaN               NaN   \n",
       "\n",
       "     [Canadian dollar ] [Swiss franc ] [Chinese yuan renminbi ]  \\\n",
       "6306             1.7643         1.6138                      NaN   \n",
       "6307             1.7602         1.6165                      NaN   \n",
       "6308             1.7711         1.6116                      NaN   \n",
       "6309             1.7965         1.6123                      NaN   \n",
       "6310             1.8004         1.6168                      NaN   \n",
       "\n",
       "     [Cypriot pound ] [Czech koruna ] [Danish krone ]  ... [Romanian leu ]  \\\n",
       "6306          0.58187          34.938          7.4433  ...          1.3143   \n",
       "6307          0.58187          34.886          7.4431  ...          1.3092   \n",
       "6308          0.58200          34.850          7.4452  ...          1.3168   \n",
       "6309          0.58230          34.917          7.4495  ...          1.3168   \n",
       "6310          0.58231          35.107          7.4501  ...          1.3111   \n",
       "\n",
       "     [Russian rouble ] [Swedish krona ] [Singapore dollar ]  \\\n",
       "6306           27.2075           9.1650              1.9537   \n",
       "6307           26.9876           9.1800              1.9436   \n",
       "6308           27.4315           9.3050              1.9699   \n",
       "6309           26.5876           9.4025              1.9655   \n",
       "6310           25.2875           9.4696              1.9554   \n",
       "\n",
       "     [Slovenian tolar ] [Slovak koruna ] [Thai baht ] [Turkish lira ]  \\\n",
       "6306           188.8400           42.560      42.5590          0.3718   \n",
       "6307           188.8000           42.765      42.1678          0.3701   \n",
       "6308           188.7000           42.778      42.6949          0.3722   \n",
       "6309           188.7750           42.848      42.5048          0.3728   \n",
       "6310           189.0450           42.991      42.6799          0.3723   \n",
       "\n",
       "     [US dollar ]  [South African rand ]  \n",
       "6306       1.1659                 6.7855  \n",
       "6307       1.1632                 6.8283  \n",
       "6308       1.1743                 6.7307  \n",
       "6309       1.1790                 6.7975  \n",
       "6310       1.1789                 6.9358  \n",
       "\n",
       "[5 rows x 41 columns]"
      ]
     },
     "execution_count": 4,
     "metadata": {},
     "output_type": "execute_result"
    }
   ],
   "source": [
    "exchange_rates.tail()"
   ]
  },
  {
   "cell_type": "code",
   "execution_count": 5,
   "id": "004ced70",
   "metadata": {},
   "outputs": [
    {
     "name": "stdout",
     "output_type": "stream",
     "text": [
      "<class 'pandas.core.frame.DataFrame'>\n",
      "RangeIndex: 6311 entries, 0 to 6310\n",
      "Data columns (total 41 columns):\n",
      " #   Column                    Non-Null Count  Dtype  \n",
      "---  ------                    --------------  -----  \n",
      " 0   Period\\Unit:              6311 non-null   object \n",
      " 1   [Australian dollar ]      6311 non-null   object \n",
      " 2   [Bulgarian lev ]          5909 non-null   object \n",
      " 3   [Brazilian real ]         6043 non-null   object \n",
      " 4   [Canadian dollar ]        6311 non-null   object \n",
      " 5   [Swiss franc ]            6311 non-null   object \n",
      " 6   [Chinese yuan renminbi ]  6043 non-null   object \n",
      " 7   [Cypriot pound ]          2346 non-null   object \n",
      " 8   [Czech koruna ]           6311 non-null   object \n",
      " 9   [Danish krone ]           6311 non-null   object \n",
      " 10  [Estonian kroon ]         3130 non-null   object \n",
      " 11  [UK pound sterling ]      6311 non-null   object \n",
      " 12  [Greek drachma ]          520 non-null    object \n",
      " 13  [Hong Kong dollar ]       6311 non-null   object \n",
      " 14  [Croatian kuna ]          5941 non-null   object \n",
      " 15  [Hungarian forint ]       6311 non-null   object \n",
      " 16  [Indonesian rupiah ]      6311 non-null   object \n",
      " 17  [Israeli shekel ]         6043 non-null   object \n",
      " 18  [Indian rupee ]           6043 non-null   object \n",
      " 19  [Iceland krona ]          3904 non-null   float64\n",
      " 20  [Japanese yen ]           6311 non-null   object \n",
      " 21  [Korean won ]             6311 non-null   object \n",
      " 22  [Lithuanian litas ]       4159 non-null   object \n",
      " 23  [Latvian lats ]           3904 non-null   object \n",
      " 24  [Maltese lira ]           2346 non-null   object \n",
      " 25  [Mexican peso ]           6311 non-null   object \n",
      " 26  [Malaysian ringgit ]      6311 non-null   object \n",
      " 27  [Norwegian krone ]        6311 non-null   object \n",
      " 28  [New Zealand dollar ]     6311 non-null   object \n",
      " 29  [Philippine peso ]        6311 non-null   object \n",
      " 30  [Polish zloty ]           6311 non-null   object \n",
      " 31  [Romanian leu ]           6249 non-null   float64\n",
      " 32  [Russian rouble ]         5994 non-null   object \n",
      " 33  [Swedish krona ]          6311 non-null   object \n",
      " 34  [Singapore dollar ]       6311 non-null   object \n",
      " 35  [Slovenian tolar ]        2085 non-null   object \n",
      " 36  [Slovak koruna ]          2608 non-null   object \n",
      " 37  [Thai baht ]              6311 non-null   object \n",
      " 38  [Turkish lira ]           6249 non-null   float64\n",
      " 39  [US dollar ]              6311 non-null   object \n",
      " 40  [South African rand ]     6311 non-null   object \n",
      "dtypes: float64(3), object(38)\n",
      "memory usage: 2.0+ MB\n"
     ]
    }
   ],
   "source": [
    "exchange_rates.info()"
   ]
  },
  {
   "cell_type": "raw",
   "id": "f42923d9",
   "metadata": {},
   "source": [
    "It is evident that part of the data are integrate while others are not. Some currency like Greek drachma hadmany null values. Most of the data type of the data are object(String in this case) while few of them are float."
   ]
  },
  {
   "cell_type": "code",
   "execution_count": 6,
   "id": "b8d7c99b",
   "metadata": {},
   "outputs": [],
   "source": [
    "exchange_rates.rename(columns={'[US dollar ]': 'US_dollar',\n",
    "                               'Period\\\\Unit:': 'Time'},\n",
    "                      inplace=True)\n",
    "exchange_rates['Time'] = pd.to_datetime(exchange_rates['Time'])\n",
    "exchange_rates.sort_values('Time', inplace=True)\n",
    "exchange_rates.reset_index(drop=True, inplace=True)"
   ]
  },
  {
   "cell_type": "raw",
   "id": "7b95d07e",
   "metadata": {},
   "source": [
    "Here we change the naming of the column that we will be frequently using. We also need to change the data type of the first column to datetime data type. We sorted the data by time sequence and resetted its index."
   ]
  },
  {
   "cell_type": "code",
   "execution_count": 7,
   "id": "022817b1",
   "metadata": {},
   "outputs": [],
   "source": [
    "euro_to_dollar = exchange_rates[[\"Time\",\"US_dollar\"]]"
   ]
  },
  {
   "cell_type": "code",
   "execution_count": 8,
   "id": "54de17ff",
   "metadata": {},
   "outputs": [
    {
     "data": {
      "text/html": [
       "<div>\n",
       "<style scoped>\n",
       "    .dataframe tbody tr th:only-of-type {\n",
       "        vertical-align: middle;\n",
       "    }\n",
       "\n",
       "    .dataframe tbody tr th {\n",
       "        vertical-align: top;\n",
       "    }\n",
       "\n",
       "    .dataframe thead th {\n",
       "        text-align: right;\n",
       "    }\n",
       "</style>\n",
       "<table border=\"1\" class=\"dataframe\">\n",
       "  <thead>\n",
       "    <tr style=\"text-align: right;\">\n",
       "      <th></th>\n",
       "      <th>Time</th>\n",
       "      <th>US_dollar</th>\n",
       "    </tr>\n",
       "  </thead>\n",
       "  <tbody>\n",
       "    <tr>\n",
       "      <th>0</th>\n",
       "      <td>1999-01-04</td>\n",
       "      <td>1.1789</td>\n",
       "    </tr>\n",
       "    <tr>\n",
       "      <th>1</th>\n",
       "      <td>1999-01-05</td>\n",
       "      <td>1.1790</td>\n",
       "    </tr>\n",
       "    <tr>\n",
       "      <th>2</th>\n",
       "      <td>1999-01-06</td>\n",
       "      <td>1.1743</td>\n",
       "    </tr>\n",
       "    <tr>\n",
       "      <th>3</th>\n",
       "      <td>1999-01-07</td>\n",
       "      <td>1.1632</td>\n",
       "    </tr>\n",
       "    <tr>\n",
       "      <th>4</th>\n",
       "      <td>1999-01-08</td>\n",
       "      <td>1.1659</td>\n",
       "    </tr>\n",
       "  </tbody>\n",
       "</table>\n",
       "</div>"
      ],
      "text/plain": [
       "        Time US_dollar\n",
       "0 1999-01-04    1.1789\n",
       "1 1999-01-05    1.1790\n",
       "2 1999-01-06    1.1743\n",
       "3 1999-01-07    1.1632\n",
       "4 1999-01-08    1.1659"
      ]
     },
     "execution_count": 8,
     "metadata": {},
     "output_type": "execute_result"
    }
   ],
   "source": [
    "euro_to_dollar.head()"
   ]
  },
  {
   "cell_type": "code",
   "execution_count": 9,
   "id": "f44d5b95",
   "metadata": {},
   "outputs": [
    {
     "data": {
      "text/plain": [
       "-         62\n",
       "1.2276     9\n",
       "1.1215     8\n",
       "1.1268     7\n",
       "1.1305     7\n",
       "          ..\n",
       "1.4030     1\n",
       "1.4113     1\n",
       "1.4106     1\n",
       "1.4127     1\n",
       "1.0751     1\n",
       "Name: US_dollar, Length: 3734, dtype: int64"
      ]
     },
     "execution_count": 9,
     "metadata": {},
     "output_type": "execute_result"
    }
   ],
   "source": [
    "euro_to_dollar[\"US_dollar\"].value_counts()"
   ]
  },
  {
   "cell_type": "raw",
   "id": "5cc5b98d",
   "metadata": {},
   "source": [
    "We see that there are many \"-\", which need to be cleaned before we do our visualization."
   ]
  },
  {
   "cell_type": "code",
   "execution_count": 10,
   "id": "5b1a0527",
   "metadata": {},
   "outputs": [
    {
     "name": "stderr",
     "output_type": "stream",
     "text": [
      "/var/folders/_2/jnlt86s94vn9h073p1yqyq640000gn/T/ipykernel_96909/2030521115.py:1: SettingWithCopyWarning: \n",
      "A value is trying to be set on a copy of a slice from a DataFrame.\n",
      "Try using .loc[row_indexer,col_indexer] = value instead\n",
      "\n",
      "See the caveats in the documentation: https://pandas.pydata.org/pandas-docs/stable/user_guide/indexing.html#returning-a-view-versus-a-copy\n",
      "  euro_to_dollar[\"US_dollar\"]=euro_to_dollar[\"US_dollar\"][euro_to_dollar[\"US_dollar\"]!=\"-\"]\n"
     ]
    }
   ],
   "source": [
    "euro_to_dollar[\"US_dollar\"]=euro_to_dollar[\"US_dollar\"][euro_to_dollar[\"US_dollar\"]!=\"-\"]"
   ]
  },
  {
   "cell_type": "code",
   "execution_count": 11,
   "id": "8fc82582",
   "metadata": {},
   "outputs": [
    {
     "data": {
      "text/plain": [
       "1.2276    9\n",
       "1.1215    8\n",
       "1.1305    7\n",
       "1.1268    7\n",
       "1.3373    6\n",
       "         ..\n",
       "1.4030    1\n",
       "1.4113    1\n",
       "1.4106    1\n",
       "1.4127    1\n",
       "1.0751    1\n",
       "Name: US_dollar, Length: 3733, dtype: int64"
      ]
     },
     "execution_count": 11,
     "metadata": {},
     "output_type": "execute_result"
    }
   ],
   "source": [
    "euro_to_dollar[\"US_dollar\"].value_counts()"
   ]
  },
  {
   "cell_type": "code",
   "execution_count": 12,
   "id": "49e30c59",
   "metadata": {},
   "outputs": [
    {
     "name": "stderr",
     "output_type": "stream",
     "text": [
      "/var/folders/_2/jnlt86s94vn9h073p1yqyq640000gn/T/ipykernel_96909/3433816929.py:1: SettingWithCopyWarning: \n",
      "A value is trying to be set on a copy of a slice from a DataFrame.\n",
      "Try using .loc[row_indexer,col_indexer] = value instead\n",
      "\n",
      "See the caveats in the documentation: https://pandas.pydata.org/pandas-docs/stable/user_guide/indexing.html#returning-a-view-versus-a-copy\n",
      "  euro_to_dollar[\"US_dollar\"]=pd.to_numeric(euro_to_dollar[\"US_dollar\"])\n"
     ]
    }
   ],
   "source": [
    "euro_to_dollar[\"US_dollar\"]=pd.to_numeric(euro_to_dollar[\"US_dollar\"])"
   ]
  },
  {
   "cell_type": "code",
   "execution_count": 13,
   "id": "5d5c6a07",
   "metadata": {},
   "outputs": [
    {
     "name": "stdout",
     "output_type": "stream",
     "text": [
      "<class 'pandas.core.frame.DataFrame'>\n",
      "RangeIndex: 6311 entries, 0 to 6310\n",
      "Data columns (total 2 columns):\n",
      " #   Column     Non-Null Count  Dtype         \n",
      "---  ------     --------------  -----         \n",
      " 0   Time       6311 non-null   datetime64[ns]\n",
      " 1   US_dollar  6249 non-null   float64       \n",
      "dtypes: datetime64[ns](1), float64(1)\n",
      "memory usage: 98.7 KB\n"
     ]
    }
   ],
   "source": [
    "euro_to_dollar.info()"
   ]
  },
  {
   "cell_type": "raw",
   "id": "3b865b1d",
   "metadata": {},
   "source": [
    "Now the data is in the right data type"
   ]
  },
  {
   "cell_type": "code",
   "execution_count": 14,
   "id": "75fa3a63",
   "metadata": {},
   "outputs": [
    {
     "name": "stderr",
     "output_type": "stream",
     "text": [
      "UsageError: unrecognized arguments: #making sure that the jupyter notebook can correctly display the plots\n"
     ]
    }
   ],
   "source": [
    "%matplotlib inline #making sure that the jupyter notebook can correctly display the plots"
   ]
  },
  {
   "cell_type": "code",
   "execution_count": 15,
   "id": "96919efe",
   "metadata": {},
   "outputs": [
    {
     "data": {
      "image/png": "[encoded data removed]",
      "text/plain": [
       "<Figure size 640x480 with 1 Axes>"
      ]
     },
     "metadata": {},
     "output_type": "display_data"
    }
   ],
   "source": [
    "plt.plot(euro_to_dollar['Time'],\n",
    "         euro_to_dollar['US_dollar'])\n",
    "plt.show()"
   ]
  },
  {
   "cell_type": "raw",
   "id": "d010c8ff",
   "metadata": {},
   "source": [
    "We can see that there are many wiggled in the graph, it means that beside the trend, they are the daily fluctuations. Since we just want to see the overall trend not really care about the daily changes, and we want the graph to look nicer, we are going to use a rolling mean."
   ]
  },
  {
   "cell_type": "code",
   "execution_count": 16,
   "id": "07cb5382",
   "metadata": {},
   "outputs": [
    {
     "name": "stderr",
     "output_type": "stream",
     "text": [
      "/var/folders/_2/jnlt86s94vn9h073p1yqyq640000gn/T/ipykernel_96909/2351244296.py:1: SettingWithCopyWarning: \n",
      "A value is trying to be set on a copy of a slice from a DataFrame.\n",
      "Try using .loc[row_indexer,col_indexer] = value instead\n",
      "\n",
      "See the caveats in the documentation: https://pandas.pydata.org/pandas-docs/stable/user_guide/indexing.html#returning-a-view-versus-a-copy\n",
      "  euro_to_dollar[\"rolling_mean\"]=euro_to_dollar[\"US_dollar\"].rolling(30).mean()\n"
     ]
    }
   ],
   "source": [
    "euro_to_dollar[\"rolling_mean\"]=euro_to_dollar[\"US_dollar\"].rolling(30).mean()"
   ]
  },
  {
   "cell_type": "raw",
   "id": "1e94e4a9",
   "metadata": {},
   "source": [
    "For this project, I want to focus on how the different stage of Covid 19 affected the relationship between Euro and US dollar. Here I am going to create three graphs, which I think would best represent the stages of covid that is infecting the world. \n",
    "\n",
    "Initial Outbreak and Spread (December 2019 - March 2020)\n",
    "\n",
    "Global Peak and Responses (April 2020 - December 2020)\n",
    "\n",
    "Vaccination and Adaptation (January 2021 - ongoing(2023-05-26 is the newest data in the file))"
   ]
  },
  {
   "cell_type": "code",
   "execution_count": 17,
   "id": "10f29d31",
   "metadata": {},
   "outputs": [],
   "source": [
    "start_date = pd.to_datetime(\"2019-12-01\")\n",
    "\n",
    "start_times=[(\"2019-12-01\",\"2020-03-28\"),(\"2020-04-01\",\"2020-12-31\"),(\"2021-01-01\",\"2023-5-26\")]\n",
    "#this code convert the whole thing into datetime date type\n",
    "start_times_datetime = [(pd.to_datetime(start), pd.to_datetime(end)) for start, end in start_times]"
   ]
  },
  {
   "cell_type": "code",
   "execution_count": 18,
   "id": "a1910709",
   "metadata": {
    "scrolled": false
   },
   "outputs": [
    {
     "data": {
      "text/plain": [
       "Text(2021-06-01 00:00:00, 1, 'Jan 2021 - May 2023')"
      ]
     },
     "execution_count": 18,
     "metadata": {},
     "output_type": "execute_result"
    },
    {
     "data": {
      "image/png": "[encoded data removed]",
      "text/plain": [
       "<Figure size 600x800 with 3 Axes>"
      ]
     },
     "metadata": {},
     "output_type": "display_data"
    }
   ],
   "source": [
    "fig, (ax1, ax2, ax3) =plt.subplots(3,1,figsize=(6,8))\n",
    "axes=[ax1,ax2,ax3]\n",
    "for ax in axes:\n",
    "    ax.plot(euro_to_dollar[\"Time\"][euro_to_dollar[\"Time\"]>start_date],\n",
    "            euro_to_dollar[euro_to_dollar[\"Time\"] >= start_date][\"US_dollar\"],\n",
    "           color='#af0b1e', alpha=0.1) \n",
    "    ax.set_xticklabels([])\n",
    "    ax.tick_params(bottom=0, left=0) \n",
    "    for location in ['left', 'right', 'top', 'bottom']:\n",
    "        ax.spines[location].set_visible(False)\n",
    "        \n",
    "plt.subplots_adjust(wspace=2, hspace=.5)\n",
    "colors=[\"red\",\"purple\",\"green\"]\n",
    "for ax, (start, end),color in zip(axes, start_times_datetime,colors):\n",
    "    # Filter the DataFrame for the given time range\n",
    "    filtered_data = euro_to_dollar[(euro_to_dollar[\"Time\"] >= start) & (euro_to_dollar[\"Time\"] <= end)]\n",
    "    # Plot the data\n",
    "    ax.plot(filtered_data[\"Time\"], filtered_data[\"US_dollar\"],color=color)\n",
    "    ax.set_xlabel(\"Time\")\n",
    "    ax.set_ylabel(\"US Dollar(value of one Euro)\")\n",
    "    ax.grid(alpha=.2)\n",
    "    \n",
    "ax1.set_title(\"Initial Outbreak and Spread of covid\")\n",
    "ax1.text(pd.to_datetime(\"2019-12-01\"),1.03,\"Dec 2019 - Mar 2020\",size=8)\n",
    "ax2.set_title(\"Global Peak and Responses\")\n",
    "ax2.text(pd.to_datetime(\"2020-04-01\"),1.05,\"Apr 2020 - Dec 2020\",size=8)\n",
    "ax3.set_title(\"Vaccination and Adaptation\")\n",
    "ax3.text(pd.to_datetime(\"2021-06-01\"),1,\"Jan 2021 - May 2023\",size=8)"
   ]
  },
  {
   "cell_type": "raw",
   "id": "dceed612",
   "metadata": {},
   "source": [
    "As we can see, in the period when Covid just break out in the world, not affecting most part of the world, the exchange rate between US dollor and Euro seems not having a strong trend. As the pandanmic starts to spread in the world, US is bearing high medical cost, bad economics, poor business performances, which lowered its value. However, as the vaccine being developed and vaccinated, the US dollar's value is steadily growing, and starts to fluctuate as normal."
   ]
  }
 ],
 "metadata": {
  "kernelspec": {
   "display_name": "Python 3 (ipykernel)",
   "language": "python",
   "name": "python3"
  },
  "language_info": {
   "codemirror_mode": {
    "name": "ipython",
    "version": 3
   },
   "file_extension": ".py",
   "mimetype": "text/x-python",
   "name": "python",
   "nbconvert_exporter": "python",
   "pygments_lexer": "ipython3",
   "version": "3.11.4"
  }
 },
 "nbformat": 4,
 "nbformat_minor": 5
}
